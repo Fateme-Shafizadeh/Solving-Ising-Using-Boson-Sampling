{
 "cells": [
  {
   "cell_type": "markdown",
   "id": "f7304188-7e10-4df3-84e2-a086cbe35e00",
   "metadata": {},
   "source": [
    "# a)"
   ]
  },
  {
   "cell_type": "markdown",
   "id": "9dfdda10-9b33-4ee8-af55-eda2d1ba8d87",
   "metadata": {},
   "source": [
    "# First method : Using article below\n",
    "# Referance : https://arxiv.org/pdf/2406.14252"
   ]
  },
  {
   "cell_type": "code",
   "execution_count": 1,
   "id": "d00119f9-d38a-4085-92ff-c1678a433a04",
   "metadata": {},
   "outputs": [
    {
     "name": "stdout",
     "output_type": "stream",
     "text": [
      "Ground state configuration: [ 1. -1.  1.  1. -1. -1.  1. -1. -1.  1.]\n",
      "Ground state energy: -17.327640689895624\n"
     ]
    }
   ],
   "source": [
    "import numpy as np\n",
    "import strawberryfields as sf\n",
    "from strawberryfields.ops import *\n",
    "import random\n",
    "\n",
    "np.random.seed(1)\n",
    "# Number of modes/spins\n",
    "N = 10\n",
    "\n",
    "# Ising Couplings\n",
    "J = {(i, j): np.random.uniform(-1, 1) for i in range(1, N) for j in range(i + 1, N + 1)}\n",
    "\n",
    "# Create a unitary matrix \n",
    "random_matrix = np.random.rand(N, N)\n",
    "unitary_matrix, _ = np.linalg.qr(random_matrix)\n",
    "\n",
    "# Improved parameter initialization based on the paper\n",
    "params = np.random.uniform(-0.1, 0.1, N)\n",
    "\n",
    "# Define a GBS circuit\n",
    "def ising_circuit(params):\n",
    "    prog = sf.Program(N)\n",
    "    with prog.context as q:\n",
    "        for i in range(N):\n",
    "            Sgate(params[i]) | q[i]\n",
    "        Interferometer(unitary_matrix) | q\n",
    "    return prog\n",
    "\n",
    "# Define the cost function\n",
    "def cost(params):\n",
    "    prog = ising_circuit(params)\n",
    "    eng = sf.Engine(\"gaussian\")\n",
    "    result = eng.run(prog)\n",
    "    state = result.state\n",
    "\n",
    "    # Compute the expectation value of the Hamiltonian\n",
    "    means = state.means()[:N]\n",
    "    covariance = state.cov()[:N, : N]\n",
    "    H_expval = 0\n",
    "\n",
    "    for (i, j), value in J.items():\n",
    "        H_expval += value * (means[i-1] * means[j-1] + covariance[i-1, j-1])\n",
    "\n",
    "    # Regularization term to prevent large parameter values\n",
    "    reg_term = np.sum(params**2)\n",
    "    \n",
    "    return H_expval + 0.01 * reg_term\n",
    "\n",
    "# Optimization\n",
    "from scipy.optimize import minimize\n",
    "\n",
    "# Minimize the cost function to find the ground state energy with bounds to prevent large values\n",
    "bounds = [(-1, 1) for _ in range(N)]\n",
    "result = minimize(cost, params, method='L-BFGS-B', bounds=bounds)\n",
    "\n",
    "# Optimized parameters and ground state energy\n",
    "optimized_params = result.x\n",
    "ground_state_energy = result.fun\n",
    "\n",
    "print(f\"Ground state configuration: {optimized_params}\")\n",
    "print(f\"Ground state energy: {ground_state_energy}\")\n"
   ]
  },
  {
   "cell_type": "markdown",
   "id": "2a24526f-5bcc-4ce7-a8f8-2ad804f3f08f",
   "metadata": {},
   "source": [
    "# Second method: Training variational GBS distributions\n",
    "# Reference1 : https://strawberryfields.ai/photonics/apps/run_tutorial_training.html#id3\n",
    "# Reference2 : https://arxiv.org/pdf/2004.04770"
   ]
  },
  {
   "cell_type": "code",
   "execution_count": null,
   "id": "b5d58c22-2723-4e3c-8f46-b031d14a2344",
   "metadata": {},
   "outputs": [
    {
     "name": "stdout",
     "output_type": "stream",
     "text": [
      "Initial mean photon numbers =  [1. 1. 1. 1. 1. 1. 1. 1. 1. 1.]\n",
      "Cost = 2.897\n",
      "Mean photon numbers =  [0.93110128 0.93397769 0.93488418 0.93398848 0.9341467  0.93237986\n",
      " 0.93589346 0.93451067 0.9343511  0.93562841]\n",
      "Cost = 0.654\n",
      "Mean photon numbers =  [0.29467226 0.31856384 0.328631   0.31769131 0.32238362 0.3051944\n",
      " 0.33683732 0.32432887 0.32026531 0.33308132]\n",
      "Cost = 0.357\n",
      "Mean photon numbers =  [0.22548068 0.25194261 0.26449133 0.25069275 0.25739078 0.23703785\n",
      " 0.27364047 0.25922891 0.25344212 0.26877573]\n",
      "Cost = 0.239\n",
      "Mean photon numbers =  [0.19514101 0.2232117  0.23759367 0.22174517 0.22987231 0.20729239\n",
      " 0.24743692 0.23169003 0.22461858 0.24176793]\n",
      "Cost = 0.173\n",
      "Mean photon numbers =  [0.17719546 0.20658171 0.22255891 0.2049661  0.21427811 0.18980371\n",
      " 0.23304394 0.21613203 0.2079504  0.22667921]\n",
      "Cost = 0.130\n",
      "Mean photon numbers =  [0.16508024 0.19566292 0.21313324 0.19393413 0.20430578 0.17808669\n",
      " 0.22425558 0.20623537 0.19702325 0.21723767]\n",
      "Cost = 0.097\n",
      "Mean photon numbers =  [0.1562905  0.18802485 0.20695422 0.18620425 0.19756897 0.16966912\n",
      " 0.2187304  0.19960563 0.18939471 0.21106895]\n",
      "Cost = 0.072\n",
      "Mean photon numbers =  [0.14963985 0.18252362 0.20292177 0.18062465 0.19295115 0.16338229\n",
      " 0.21538184 0.19512274 0.18391428 0.20706526]\n",
      "Cost = 0.050\n",
      "Mean photon numbers =  [0.14448926 0.17855059 0.20046165 0.17658181 0.18986366 0.15859894\n",
      " 0.21364712 0.1921972  0.1799693  0.20464704]\n",
      "Cost = 0.031\n",
      "Mean photon numbers =  [0.14046638 0.17575967 0.19925944 0.17372622 0.18797725 0.15495601\n",
      " 0.21322353 0.19050069 0.17721091 0.20349577]\n",
      "Cost = 0.014\n",
      "Mean photon numbers =  [0.13734549 0.17395156 0.19914908 0.171856   0.18710877 0.15223644\n",
      " 0.21395838 0.18985262 0.17543769 0.20344191]\n"
     ]
    }
   ],
   "source": [
    "import networkx as nx\n",
    "from strawberryfields.apps import train\n",
    "\n",
    "np.random.seed(1)\n",
    "\n",
    "# Number of modes/spins\n",
    "N = 10\n",
    "\n",
    "# Ising couplings\n",
    "J = {(i, j): np.random.uniform(-1, 1) for i in range(N) for j in range(i + 1, N)}\n",
    "\n",
    "# Create a complete graph \n",
    "graph = nx.complete_graph(N)\n",
    "A = nx.to_numpy_array(graph)\n",
    "\n",
    "# Define the Ising Hamiltonian function\n",
    "def Ising_Hamiltonian(s):\n",
    "    H = 0\n",
    "    for (i, j), value in J.items():\n",
    "        H += -value * s[i] * s[j]\n",
    "    return H\n",
    "\n",
    "# Initialize weights for the VGBS model\n",
    "weights = train.Exp(N)\n",
    "\n",
    "# Mean photon number\n",
    "n_mean = 10\n",
    "\n",
    "# Create a VGBS object\n",
    "vgbs = train.VGBS(A, n_mean, weights, threshold=False)\n",
    "\n",
    "# Define the cost function using stochastic sampling\n",
    "cost = train.Stochastic(Ising_Hamiltonian, vgbs)\n",
    "\n",
    "# Initialize parameters\n",
    "params = np.zeros(N)\n",
    "nr_samples = 600\n",
    "nr_steps = 700\n",
    "rate = 0.001\n",
    "\n",
    "print('Initial mean photon numbers = ', vgbs.mean_photons_by_mode(params))\n",
    "\n",
    "# Perform the gradient-based optimization\n",
    "for i in range(nr_steps):\n",
    "    params -= rate * cost.grad(params, nr_samples)\n",
    "    if i % 50 == 0:\n",
    "        print(f'Cost = {cost.evaluate(params, nr_samples):.3f}')\n",
    "        print('Mean photon numbers = ', vgbs.mean_photons_by_mode(params))\n",
    "        \n",
    "print(f'Final optimized parameters: {params}')"
   ]
  },
  {
   "cell_type": "code",
   "execution_count": null,
   "id": "7f92d153-c544-4669-8ef1-1917906c50da",
   "metadata": {},
   "outputs": [],
   "source": [
    "# Generate samples \n",
    "Aw = vgbs.A(params)\n",
    "samples = vgbs.generate_samples(Aw, n_samples=200)\n",
    "\n",
    "print(\"States:\")\n",
    "print(samples)"
   ]
  },
  {
   "cell_type": "code",
   "execution_count": null,
   "id": "973edf79-b3a2-4fb5-acd7-e7c26e3aba56",
   "metadata": {},
   "outputs": [],
   "source": [
    "# Map photon numbers to Ising (-1 or 1)\n",
    "def photon_to_spin(photon_counts):\n",
    "    return [1 if count > 0 else -1 for count in photon_counts]\n",
    "\n",
    "# Calculate the ground state energy and configuration\n",
    "sample_energies = np.array([Ising_Hamiltonian(photon_to_spin(sample)) for sample in samples])\n",
    "ground_state_energy = sample_energies.min()\n",
    "ground_state = samples[sample_energies.argmin()]\n",
    "\n",
    "# Convert the ground state photon counts to Ising spins\n",
    "ground_state_spins = photon_to_spin(ground_state)\n",
    "\n",
    "print(f'Ground state configuration: {ground_state_spins}')\n",
    "print(f'Ground state energy: {ground_state_energy}')"
   ]
  },
  {
   "cell_type": "markdown",
   "id": "83c1a54a-96fe-4034-afb5-b89d82691a4b",
   "metadata": {},
   "source": [
    "# b)"
   ]
  },
  {
   "cell_type": "code",
   "execution_count": null,
   "id": "2431c123-1ddc-4dbe-a9c7-51659a01b9d2",
   "metadata": {},
   "outputs": [],
   "source": [
    "from dimod import ExactSolver\n",
    "\n",
    "np.random.seed(1)\n",
    "# N = Number of spins\n",
    "N = 10\n",
    "h = {}\n",
    "J = {}\n",
    "J = {(i, j): np.random.uniform(-1, 1) for i in range(1,N) for j in range(i + 1, N + 1)}\n",
    "\n",
    "sampler = ExactSolver()\n",
    "\n",
    "samplest = sampler.sample_ising(h, J, num_reads=1000)\n",
    "print(\"Exact solution :\")\n",
    "print(samplest)"
   ]
  },
  {
   "cell_type": "markdown",
   "id": "80873282-4b3b-4c87-8751-217b41ca4a43",
   "metadata": {},
   "source": [
    "# c)"
   ]
  },
  {
   "cell_type": "code",
   "execution_count": null,
   "id": "3f4a1217-5cb3-476b-8e1f-fdcae5945ac5",
   "metadata": {},
   "outputs": [],
   "source": [
    "import dimod\n",
    "from dwave.system import DWaveSampler, EmbeddingComposite\n",
    "\n",
    "np.random.seed(1)\n",
    "# N = Number of spins\n",
    "N = 10\n",
    "h = {}\n",
    "J = {}\n",
    "J = {(i, j): np.random.uniform(-1, 1) for i in range(1,N) for j in range(i + 1, N + 1)}\n",
    "\n",
    "sampler = EmbeddingComposite(DWaveSampler(token=\"DEV-91deb9e83ca219cded0c79faef452cf24823a325\"))\n",
    "\n",
    "samplest = sampler.sample_ising(h, J, num_reads=1000)\n",
    "\n",
    "print(\"D-Wave solution :\")\n",
    "print(samplest)"
   ]
  },
  {
   "cell_type": "code",
   "execution_count": null,
   "id": "ee776f36-7d8d-4b4c-9bfd-1c89e496db1f",
   "metadata": {},
   "outputs": [],
   "source": []
  }
 ],
 "metadata": {
  "kernelspec": {
   "display_name": "Python 3 (ipykernel)",
   "language": "python",
   "name": "python3"
  },
  "language_info": {
   "codemirror_mode": {
    "name": "ipython",
    "version": 3
   },
   "file_extension": ".py",
   "mimetype": "text/x-python",
   "name": "python",
   "nbconvert_exporter": "python",
   "pygments_lexer": "ipython3",
   "version": "3.9.18"
  }
 },
 "nbformat": 4,
 "nbformat_minor": 5
}
